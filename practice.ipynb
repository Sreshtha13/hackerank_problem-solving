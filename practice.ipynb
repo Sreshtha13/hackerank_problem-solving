{
  "nbformat": 4,
  "nbformat_minor": 0,
  "metadata": {
    "colab": {
      "provenance": [],
      "authorship_tag": "ABX9TyO7pEYAIDR4Y550Fb8MW07a",
      "include_colab_link": true
    },
    "kernelspec": {
      "name": "python3",
      "display_name": "Python 3"
    },
    "language_info": {
      "name": "python"
    }
  },
  "cells": [
    {
      "cell_type": "markdown",
      "metadata": {
        "id": "view-in-github",
        "colab_type": "text"
      },
      "source": [
        "<a href=\"https://colab.research.google.com/github/Sreshtha13/hackerank_problem-solving/blob/main/practice.ipynb\" target=\"_parent\"><img src=\"https://colab.research.google.com/assets/colab-badge.svg\" alt=\"Open In Colab\"/></a>"
      ]
    },
    {
      "cell_type": "code",
      "execution_count": null,
      "metadata": {
        "id": "tCsq3s5fU_b7"
      },
      "outputs": [],
      "source": [
        "def solveMeFirst(a, b):\n",
        "    a=int\n",
        "    b=int\n",
        "    print(a+b)"
      ]
    },
    {
      "cell_type": "code",
      "source": [
        "\n",
        "import random\n",
        "def fav_singer(self):\n",
        "  for i in randint(0,n):\n",
        "    count i\n",
        "\n",
        "\n",
        "\n"
      ],
      "metadata": {
        "id": "sYnmYtiQc9-G"
      },
      "execution_count": null,
      "outputs": []
    },
    {
      "cell_type": "code",
      "source": [
        "name = input()                  # Reading input from STDIN\n",
        "print('Hi, %s.' % name)"
      ],
      "metadata": {
        "id": "Ag4cHgXkd5Vb"
      },
      "execution_count": null,
      "outputs": []
    },
    {
      "cell_type": "code",
      "source": [],
      "metadata": {
        "id": "6TywIYlazSia"
      },
      "execution_count": null,
      "outputs": []
    },
    {
      "cell_type": "code",
      "source": [
        "# Reading the word input\n",
        "word = input()\n",
        "\n",
        "# Counting the number of 'Z's and 'O's\n",
        "count_z = word.count('z')\n",
        "count_o = word.count('o')\n",
        "\n",
        "# Checking if the word is similar to \"zoo\"\n",
        "if count_o == 2 * count_z:\n",
        "    print(\"Yes\")\n",
        "else:\n",
        "    print(\"No\")"
      ],
      "metadata": {
        "colab": {
          "base_uri": "https://localhost:8080/"
        },
        "id": "7QQLyxCr_7dx",
        "outputId": "8e74de6b-d576-46a6-c0b9-90936f724188"
      },
      "execution_count": null,
      "outputs": [
        {
          "output_type": "stream",
          "name": "stdout",
          "text": [
            "zzzoooooo\n",
            "Yes\n"
          ]
        }
      ]
    },
    {
      "cell_type": "code",
      "source": [
        "# A city has N Tram stations numbered from 1 to N  that are connected to one another and form a circle. You are given an array ticket_cost  where ticket_cost[i] is the cost of a ticket between the stops number i and (i + 1) % N. The Tram can travel in both directions i.e. clockwise and anti-clockwise.\n",
        "\n",
        "# Return the minimum cost to travel between the given start and finish station.\n",
        "\n",
        "# You are given an integer N where N represents the total number of the tram stations, an integer start which represents the start station, and an integer finish which represents the finish station. You are given an array of positive integers  ticket_cost where ticket_cost[i] represents the ticket cost between the station number i and (i + 1) % N.\n",
        "\n",
        "# Task\n",
        "\n",
        "# Determine the minimum cost to travel between the given start and finish station.\n",
        "\n",
        "# Example\n",
        "\n",
        "# Assumptions\n",
        "\n",
        "# N = 4\n",
        "# start = 1\n",
        "# finish = 4\n",
        "# ticket_cost = [1, 2, 2, 4 ]\n",
        "# Approach\n",
        "\n",
        "# path1 -> 1------1-----> 2 -------2------> 3 -------2------> 4 . => 1+2+2 => 5\n",
        "\n",
        "# path2 -> 1------4------>4 . => 4\n",
        "\n",
        "# Path2 will give the minimum cost. Therefore return 4.\n",
        "\n",
        "# Function description\n",
        "\n",
        "# Complete the Solve() function provided in the editor below that takes the following arguments and finds the minimum cost to travel between the given start and finish station:\n",
        "\n",
        "# N: Represents the total number of tram stations\n",
        "# start: Represents the start station\n",
        "# finish: Represents the finish station\n",
        "# ticket_cost: Represents ticket_cost[i] denoting the ticket-cost between the station number i and (i + 1) %N\n",
        "# Input format\n",
        "\n",
        "# The first line contains an integer N denoting the total number of tram stations.\n",
        "# The second line contains an integer start denoting the start station.\n",
        "# The third line contains an integer finish denoting the finish station.\n",
        "# The fourth line contains an N space-separated integer array ticket_cost, ticket_cost[i] represents the ticket-cost between the station number i and (i + 1) %N.\n",
        "# Output format\n",
        "\n",
        "# Return the minimum cost to travel between the given start and finish station.\n",
        "\n",
        "# Constraints\n",
        "\n",
        "\n",
        "\n",
        "# ek array\n",
        "# jisme dono route ko calculate krenge()\n",
        "# fir shortest route ans banega apna\n",
        "# first route ka calculation start to finish ke liye direct hoga\n",
        "# second route ke liye hum start se backward cycle chalayenge\n",
        "\n",
        "\n",
        "\n",
        "def solve(N, start, finish, Ticket_cost):\n",
        "    # Adjust indices to account for circular nature\n",
        "    clockwise_cost = sum(Ticket_cost[start - 1:finish - 1])\n",
        "    anticlockwise_cost = sum(Ticket_cost[finish - 1:] + Ticket_cost[:start - 1])\n",
        "\n",
        "    # Return the minimum cost\n",
        "    return min(clockwise_cost, anticlockwise_cost)\n",
        "\n",
        "N = int(input())\n",
        "start = int(input())\n",
        "finish = int(input())\n",
        "Ticket_cost = list(map(int, input().split()))\n",
        "\n",
        "out_ = solve(N, start, finish, Ticket_cost)\n",
        "print(out_)\n",
        "\n",
        "\n"
      ],
      "metadata": {
        "colab": {
          "base_uri": "https://localhost:8080/"
        },
        "id": "o0cM1WfezTJj",
        "outputId": "fa21d782-d0c5-4ab5-ab04-4a30ff1d6fbd"
      },
      "execution_count": null,
      "outputs": [
        {
          "output_type": "stream",
          "name": "stdout",
          "text": [
            "5\n",
            "4\n",
            "3\n",
            "12 6 2 6 2\n",
            "0\n"
          ]
        }
      ]
    },
    {
      "cell_type": "code",
      "source": [
        "# Function to find the most updated menu\n",
        "def most_updated_menu(num_menus, num_items, menus):\n",
        "    max_prices = [0] * num_items  # Initialize list to store maximum prices\n",
        "\n",
        "    # Iterate through each menu\n",
        "    for menu in menus:\n",
        "        # Update max_prices with maximum prices for each item across all menus\n",
        "        for i in range(num_items):\n",
        "            max_prices[i] = max(max_prices[i], menu[i])\n",
        "\n",
        "    # Calculate the count of good prices on each menu\n",
        "    good_prices_count = [sum(menu[i] == max_prices[i] for i in range(num_items)) for menu in menus]\n",
        "\n",
        "    # Find the index of the menu(s) with the maximum number of good prices\n",
        "    max_good_prices_count = max(good_prices_count)\n",
        "    updated_menus = [i + 1 for i, count in enumerate(good_prices_count) if count == max_good_prices_count]\n",
        "\n",
        "    # If there are multiple menus with the maximum number of good prices, find the one with the highest average price\n",
        "    if len(updated_menus) > 1:\n",
        "        max_avg_price = 0\n",
        "        most_updated_menu = 0\n",
        "        for menu_index in updated_menus:\n",
        "            avg_price = sum(menus[menu_index - 1]) / num_items\n",
        "            if avg_price > max_avg_price:\n",
        "                max_avg_price = avg_price\n",
        "                most_updated_menu = menu_index\n",
        "        return most_updated_menu\n",
        "\n",
        "    return updated_menus[0]  # Return the menu index with the maximum number of good prices\n",
        "\n",
        "# Read input\n",
        "num_menus, num_items = map(int, input().split())\n",
        "menus = []\n",
        "for _ in range(num_menus):\n",
        "    menu = list(map(int, input().split()))\n",
        "    menus.append(menu)\n",
        "\n",
        "# Find and print the most updated menu\n",
        "result = most_updated_menu(num_menus, num_items, menus)\n",
        "print(result)\n"
      ],
      "metadata": {
        "colab": {
          "base_uri": "https://localhost:8080/"
        },
        "id": "ZgCFDW_4DjkY",
        "outputId": "c82f77e3-45df-4157-d85c-4e824f0fd35e"
      },
      "execution_count": null,
      "outputs": [
        {
          "output_type": "stream",
          "name": "stdout",
          "text": [
            "3 4 \n",
            "1 2 1 10\n",
            "3 4 3 2\n",
            "1 3 3 2\n",
            "2\n"
          ]
        }
      ]
    },
    {
      "cell_type": "code",
      "source": [
        "#  Find the minimum number of coins required to form any value between 1 to N,both inclusive.\n",
        "# Cumulative value of coins should not exceed N. Coin denominations are 1 Rupee, 2 Rupee and 5 Rupee.Let’s\n",
        "# Understand the problem using the following example. Consider the value of N is 13, then the minimum number of coins\n",
        "#  required to formulate any value between 1 and 13, is 6. One 5 Rupee, three 2 Rupee and two 1 Rupee coins are required to\n",
        "#  realize any value between 1 and 13. Hence this is the answer.However, if one takes two 5 Rupee coins, one 2 rupee coin and two 1 rupee coin\n",
        "#  , then too all values between 1 and 13 are achieved. But since the cumulative value of all coins equals 14, i.e., exceeds 13, this is not the answer.\n",
        "\n",
        "# there is 2 case needed na\n",
        "# one include max value should be n\n",
        "# value should be equal to N\n",
        "\n",
        "def coins_value(self,N,):\n",
        "  N=int(input())\n",
        "\n",
        "\n",
        "\n",
        "\n",
        "\n"
      ],
      "metadata": {
        "id": "SugjqFF8aD9C"
      },
      "execution_count": null,
      "outputs": []
    },
    {
      "cell_type": "code",
      "source": [
        "number = int(input())\n",
        "\n",
        "# Calculate the number of 5 Rupee coins\n",
        "five = (number - 4) // 5\n",
        "\n",
        "# Determine the number of 2 Rupee coins\n",
        "if (number - 5 * five) % 2 == 0:\n",
        "    two = 2\n",
        "    one = 1\n",
        "else:\n",
        "    two = (number - 5 * five - 1) // 2\n",
        "    one = 1\n",
        "\n",
        "# Print the results\n",
        "print(\"Total Coins:\", one + two + five)\n",
        "print(\"Number of 5 Rupee coins:\", five)\n",
        "print(\"Number of 2 Rupee coins:\", two)\n",
        "print(\"Number of 1 Rupee coins:\", one)\n"
      ],
      "metadata": {
        "colab": {
          "base_uri": "https://localhost:8080/"
        },
        "id": "3kS73kMdzTGg",
        "outputId": "728b62cd-0509-4a53-b5ec-6dbc069c04f0"
      },
      "execution_count": null,
      "outputs": [
        {
          "output_type": "stream",
          "name": "stdout",
          "text": [
            "24\n",
            "Total Coins: 7\n",
            "Number of 5 Rupee coins: 4\n",
            "Number of 2 Rupee coins: 2\n",
            "Number of 1 Rupee coins: 1\n"
          ]
        }
      ]
    },
    {
      "cell_type": "code",
      "source": [
        "# so questions is that a person is traveling in a direction\n",
        "\n",
        "# step 1 right - 10 steps\n",
        "# s2- left 20 steps\n",
        "# s3- left 30 steps\n",
        "# s4 left - 40 steps\n",
        "# s5 right - 50 steps\n",
        "\n",
        "#  so it will move in form of RLLLR with 10 units of increasement\n",
        "#  input n will give u nnumber of steps\n",
        "#  output required to give 2d points of cordinatee geometry from that origin point O\n",
        "\n",
        "\n",
        "# def location(self,N):\n",
        "#   let O =(0,0)\n",
        "#   N = input(int())\n",
        "#   for i in N:\n",
        "def location(N):\n",
        "    # Starting point (origin)\n",
        "    O = (0, 0)\n",
        "\n",
        "    # Initialize coordinates\n",
        "    x, y = O\n",
        "\n",
        "    # Define the pattern RLLL with increment of 10 units\n",
        "    pattern = ['R', 'L', 'L', 'L']\n",
        "\n",
        "    # Iterate through each step up to N\n",
        "    for i in range(N):\n",
        "        # Get the current direction from the pattern\n",
        "        direction = pattern[i % len(pattern)]\n",
        "\n",
        "        # Update coordinates based on direction\n",
        "        if direction == 'R':\n",
        "            x += 10\n",
        "        elif direction == 'L':\n",
        "            x += 10\n",
        "\n",
        "    # Return the final coordinates\n",
        "    return x, y\n",
        "\n",
        "# Get user input for the number of steps (N)\n",
        "try:\n",
        "    N = int(input(\"Enter the number of steps: \"))\n",
        "    result = location(N)\n",
        "    print(f\"Final coordinates: {result}\")\n",
        "except ValueError:\n",
        "    print(\"Invalid input. Please enter a valid integer.\")\n"
      ],
      "metadata": {
        "colab": {
          "base_uri": "https://localhost:8080/"
        },
        "id": "4l_vQWj8Sd-k",
        "outputId": "03903509-ed84-4269-e3f5-036faa22ee2d"
      },
      "execution_count": null,
      "outputs": [
        {
          "output_type": "stream",
          "name": "stdout",
          "text": [
            "Enter the number of steps: 5\n",
            "Final coordinates: (50, 0)\n"
          ]
        }
      ]
    },
    {
      "cell_type": "code",
      "source": [
        "# A chocolate factory is packing chocolates into the packets. The chocolate packets here represent an array  of N number of integer values.\n",
        "# The task is to find the empty packets(0) of chocolate and push it to the end of the conveyor belt(array).\n",
        "\n",
        "# to isk karne ke liye phle to humko ek array ko input banana hoga aur fir us array ke elements ko 0 se rakh kar swap karna hoga\n",
        "\n",
        "\n",
        "def move(self, packets):\n",
        "    n = len(packets)\n",
        "\n",
        "    for i in range(n - 1):\n",
        "        if packets[i] == 0:\n",
        "            j = i + 1\n",
        "            while j < n and packets[j] == 0:\n",
        "                j += 1\n",
        "            if j < n:\n",
        "                packets[i], packets[j] = packets[j], packets[i]\n",
        "\n",
        "    return packets"
      ],
      "metadata": {
        "id": "FK-2InUbS_DN"
      },
      "execution_count": null,
      "outputs": []
    },
    {
      "cell_type": "code",
      "source": [
        "# Joseph is learning digital logic subject which will be for his next semester. He usually tries to solve unit assignment problems before the lecture. Today he got one tricky question.\n",
        "# The problem statement is “A positive integer has been given as an input. Convert decimal value to binary representation.\n",
        "# Toggle all bits of it after the most significant bit including the most significant bit. Print the positive integer value after toggling all bits”.\n",
        "\n",
        "# Constrains-\n",
        "\n",
        "# 1<=N<=100\n",
        "\n",
        "# Example 1:\n",
        "\n",
        "# Input :\n",
        "\n",
        "# 10  -> Integer\n",
        "\n",
        "# Output :\n",
        "\n",
        "# 5    -> result- Integer\n",
        "\n",
        "# Explanation:\n",
        "\n",
        "# Binary representation of 10 is 1010. After toggling the bits(1010), will get 0101 which represents “5”. Hence output will print “5”.\n",
        "\n",
        "# iske liye n ka input lo usko binary mei convert karo aur fir uske 0 ko 1 and 1 ko 0 mei convert karo and fir uski jo value aaye usko int mei convert kar do\n",
        "\n",
        "# conversion of the number to binary can be done by bin(N)[2:]\n",
        "\n",
        "\n",
        "\n",
        "\n",
        "\n",
        "# def binary_to_decimal(binary_str):\n",
        "#     decimal_number = int(binary_str, 2)\n",
        "#     return decimal_number\n",
        "\n",
        "# # Example usage:\n",
        "# binary_string = \"11010\"\n",
        "# decimal_result = binary_to_decimal(binary_string)\n",
        "# print(decimal_result)\n",
        "\n",
        "\n",
        "# def binary_to_binary(N):\n",
        "#   O= bin(N)[2:]\n",
        "#   inverted_string =\"\"\n",
        "\n",
        "#   for bit in O:\n",
        "#     if bit == '0':\n",
        "#       inverted_string += '1'\n",
        "#     else:\n",
        "#       inverted_string +='0'\n",
        "\n",
        "#   inverted_number = int(inverted_string,2)\n",
        "#   print(inverted_number)\n",
        "# N = int(input())\n",
        "# print(binary_to_binary(N))\n",
        "\n",
        "def binary_to_binary(N):\n",
        "    O = bin(N)[2:]\n",
        "    inverted_string = \"\"\n",
        "\n",
        "    for bit in O:\n",
        "        if bit == '0':\n",
        "            inverted_string += '1'\n",
        "        else:\n",
        "            inverted_string += '0'\n",
        "\n",
        "    inverted_number = int(inverted_string, 2)\n",
        "    return inverted_number\n",
        "\n",
        "N = int(input())\n",
        "print(binary_to_binary(N))\n",
        "\n",
        "\n",
        "\n",
        "\n",
        "\n",
        "\n"
      ],
      "metadata": {
        "id": "kTifOAZ-YJur"
      },
      "execution_count": null,
      "outputs": []
    },
    {
      "cell_type": "code",
      "source": [
        "# Jack is always excited about sunday. It is favourite day, when he gets to play all day. And goes to cycling with his friends.\n",
        "\n",
        "# So every time when the months starts he counts the number of sundays he will get to enjoy. Considering the month can start with any day, be it Sunday, Monday…. Or so on.\n",
        "\n",
        "# Count the number of Sunday jack will get within n number of days.\n",
        "\n",
        "#  Example 1:\n",
        "\n",
        "# Input\n",
        "\n",
        "# mon-> input String denoting the start of the month.\n",
        "\n",
        "# 13  -> input integer denoting the number of days from the start of the month.\n",
        "\n",
        "# Output :\n",
        "\n",
        "# 2    -> number of days within 13 days.\n",
        "\n",
        "# to input ke liye chahiye ko 2 cheeje - begining day of the month and N = kitne din ke andar ouput batana hai and output = number of sundays ka count\n",
        "\n",
        "def number_of_sundays(day,N):\n",
        "\n",
        "  days_in_week = [\"Mon\",\"Tue\",\"Wed\",\"Thurs\",\"Fri\",\"Sat\",\"Sun\"]\n",
        "  start_index = days_in_week.index(day)\n",
        "  count= 0\n",
        "  for i in range(0,N):\n",
        "    current_day = days_in_week[(start_index +1 + i)% 7 ]\n",
        "    if current_day == \"Sun\" or (i == 0 and day == \"Sun\"):\n",
        "      count +=1\n",
        "\n",
        "  return count\n",
        "\n",
        "day=input()\n",
        "\n",
        "N=int(input())\n",
        "print(number_of_sundays(day,N))\n"
      ],
      "metadata": {
        "colab": {
          "base_uri": "https://localhost:8080/"
        },
        "id": "wpfgC1QKo6Sf",
        "outputId": "f87cdb27-1db7-4ed8-c65a-4e42dfcdc6d9"
      },
      "execution_count": null,
      "outputs": [
        {
          "output_type": "stream",
          "name": "stdout",
          "text": [
            "Tue\n",
            "18\n",
            "2\n"
          ]
        }
      ]
    },
    {
      "cell_type": "code",
      "source": [
        "# Airport security officials have confiscated several item of the passengers at the security check point. All the items have been dumped into a huge box (array).\n",
        "# Each item possesses a certain amount of risk[0,1,2]. Here, the risk severity of the items represent an array[] of N number of integer values. The task here is to\n",
        "#  sort the items based on their levels of risk in the array. The risk values range from 0 to 2.\n",
        "\n",
        "# Example :\n",
        "\n",
        "# Input :\n",
        "\n",
        "# 7  -> Value of N\n",
        "\n",
        "# [1,0,2,0,1,0,2]-> Element of arr[0] to arr[N-1], while input each element is separated by new line.\n",
        "\n",
        "# Output :\n",
        "\n",
        "# 0 0 0 1 1 2 2  -> Element after sorting based on risk severity\n",
        "\n",
        "# Example 2:\n",
        "\n",
        "# input : 10  -> Value of N\n",
        "\n",
        "# [2,1,0,2,1,0,0,1,2,0] -> Element of arr[0] to arr[N-1], while input each element is separated by a new line.\n",
        "\n",
        "# Output :\n",
        "\n",
        "# 0 0 0 0 1 1 1 2 2 2  ->Elements after sorting based on risk severity.\n",
        "\n",
        "# Explanation:\n",
        "\n",
        "# In the above example, the input is an array of size N consisting of only 0’s, 1’s and 2s. The output is a sorted array from 0 to 2 based on risk severity.\n",
        "\n",
        "\n",
        "# isme input to major ek hi hoga aur vo hoga n jo batayega kitne items hai.. aur fir elements of the array likhna hai bt array ke elements 0-2 ke beech honge\n",
        "# solve krne ke liye kuch nahi karna sirf arr(i)>arr(j)check karna hai and agar i bada hai to usko swap kar dena hai\n",
        "\n"
      ],
      "metadata": {
        "id": "oUgbS3IovYDe"
      },
      "execution_count": null,
      "outputs": []
    },
    {
      "cell_type": "code",
      "source": [
        "def uniquelist(N):\n",
        "  arr=[]\n",
        "  for i in range(N):\n",
        "    arr.append(int(input()))\n",
        "  count=1\n",
        "  for i in range(arr):\n",
        "    if (arr[i]!==arr[j]):\n",
        "      count=count+1\n",
        "  return count\n",
        "\n",
        "N=int(input())\n",
        "result=uniquelist(N)\n",
        "print(result)\n"
      ],
      "metadata": {
        "colab": {
          "base_uri": "https://localhost:8080/",
          "height": 144
        },
        "id": "t3N6rhDFfh5g",
        "outputId": "b1c3a624-c335-4d1d-f896-7ce5f339c3ed"
      },
      "execution_count": null,
      "outputs": [
        {
          "output_type": "error",
          "ename": "SyntaxError",
          "evalue": "invalid syntax (<ipython-input-1-7f9552914b28>, line 7)",
          "traceback": [
            "\u001b[0;36m  File \u001b[0;32m\"<ipython-input-1-7f9552914b28>\"\u001b[0;36m, line \u001b[0;32m7\u001b[0m\n\u001b[0;31m    if (arr[i]!==arr[j]):\u001b[0m\n\u001b[0m                ^\u001b[0m\n\u001b[0;31mSyntaxError\u001b[0m\u001b[0;31m:\u001b[0m invalid syntax\n"
          ]
        }
      ]
    },
    {
      "cell_type": "code",
      "source": [
        "#!/bin/python3\n",
        "\n",
        "import math\n",
        "import os\n",
        "import random\n",
        "import re\n",
        "import sys\n",
        "\n",
        "#\n",
        "# Complete the 'breakingRecords' function below.\n",
        "#\n",
        "# The function is expected to return an INTEGER_ARRAY.\n",
        "# The function accepts INTEGER_ARRAY scores as parameter.\n",
        "#\n",
        "\n",
        "def breakingRecords(scores):\n",
        "    lowest_score = scores[0]\n",
        "    highest_score=scores[0]\n",
        "    lowest_count=0\n",
        "    highest_count=0\n",
        "    for i in range(len(scores)):\n",
        "      if scores[i]>highest_score:\n",
        "        highest_count +=1\n",
        "        highest_score=scores[i]\n",
        "      elif scores[i]<lowest_score:\n",
        "        lowest_count +=1\n",
        "        lowest_score=scores[i]\n",
        "    return highest_count, lowest_count\n",
        "\n",
        "n=int(input())\n",
        "scores = list(map(int, input().rstrip().split()))\n",
        "result = breakingRecords(scores)\n",
        "print(*result)\n",
        "\n",
        "\n"
      ],
      "metadata": {
        "colab": {
          "base_uri": "https://localhost:8080/"
        },
        "id": "c8zVoNHBySdd",
        "outputId": "26d5aeeb-038f-4d63-a580-0294cd6e8f9b"
      },
      "execution_count": null,
      "outputs": [
        {
          "output_type": "stream",
          "name": "stdout",
          "text": [
            "9\n",
            "10 5 20 20 4 5 2 25 1\n",
            "2 4\n"
          ]
        }
      ]
    },
    {
      "cell_type": "code",
      "source": [
        "# Two children, Lily and Ron, want to share a chocolate bar. Each of the squares has an integer on it.\n",
        "\n",
        "# Lily decides to share a contiguous segment of the bar selected such that:\n",
        "\n",
        "# The length of the segment matches Ron's birth month, and,\n",
        "# The sum of the integers on the squares is equal to his birth day.\n",
        "# Determine how many ways she can divide the chocolate.\n",
        "\n",
        "# Example\n",
        "\n",
        "\n",
        "\n",
        "# Lily wants to find segments summing to Ron's birth day,  with a length equalling his birth month, . In this case, there are two segments meeting her criteria:  and .\n",
        "\n",
        "# Function Description\n",
        "\n",
        "# Complete the birthday function in the editor below.\n",
        "\n",
        "# birthday has the following parameter(s):\n",
        "\n",
        "# int s[n]: the numbers on each of the squares of chocolate\n",
        "# int d: Ron's birth day\n",
        "# int m: Ron's birth month\n",
        "# Returns\n",
        "\n",
        "# int: the number of ways the bar can be divided\n",
        "# Input Format\n",
        "\n",
        "# The first line contains an integer , the number of squares in the chocolate bar.\n",
        "# The second line contains  space-separated integers , the numbers on the chocolate squares where .\n",
        "# The third line contains two space-separated integers,  and , Ron's birth day and his birth month.\n",
        "\n",
        "# Constraints\n",
        "\n",
        "# , where ()\n",
        "# Sample Input 0\n",
        "\n",
        "# 5\n",
        "# 1 2 1 3 2\n",
        "# 3 2\n",
        "# Sample Output 0\n",
        "\n",
        "# 2\n",
        "# Explanation 0\n",
        "\n",
        "# Lily wants to give Ron  squares summing to . The following two segments meet the criteria:\n",
        "\n",
        "# image\n",
        "\n",
        "# Sample Input 1\n",
        "\n",
        "# 6\n",
        "# 1 1 1 1 1 1\n",
        "# 3 2\n",
        "# Sample Output 1\n",
        "\n",
        "# 0\n",
        "# Explanation 1\n",
        "\n",
        "# Lily only wants to give Ron  consecutive squares of chocolate whose integers sum to . There are no possible pieces satisfying these constraints:\n",
        "\n",
        "# image\n",
        "\n",
        "# Thus, we print  as our answer.\n",
        "\n",
        "# Sample Input 2\n",
        "\n",
        "# 1\n",
        "# 4\n",
        "# 4 1\n",
        "# Sample Output 2\n",
        "\n",
        "# 1\n",
        "# Explanation 2\n",
        "\n",
        "# Lily only wants to give Ron  square of chocolate with an integer value of . Because the only square of chocolate in the bar satisfies this constraint, we print  as our answer.\n",
        "\n",
        "#!/bin/python3\n",
        "\n",
        "import math\n",
        "import os\n",
        "import random\n",
        "import re\n",
        "import sys\n",
        "\n",
        "\n",
        "\n",
        "def birthday(s, d, m):\n",
        "    n = int(input().strip())\n",
        "    s = list(map(int, input().rstrip().split()))\n",
        "    first_multiple_input = input().rstrip().split()\n",
        "\n",
        "    d = int(first_multiple_input[0])\n",
        "\n",
        "    m = int(first_multiple_input[1])\n",
        "\n",
        "    sum = s()\n",
        "\n",
        "\n"
      ],
      "metadata": {
        "id": "peyXYrNc1sML"
      },
      "execution_count": null,
      "outputs": []
    },
    {
      "cell_type": "code",
      "source": [
        "# reverse of an array to be printed\n",
        "# input = [1,2,3,4]\n",
        "# output= [4,3,2,1]\n",
        "\n",
        "# so reverse of the array print karne ke liye kuch nahi ek 2 array banani hai\n",
        "# ek input array fir us input array pr ek loop chalao\n",
        "# jo loop n tak chalega fir ek ko utha kr doosre mei put krte jaao\n",
        "\n",
        "# def reversearray(N):\n",
        "\n",
        "#   Arr=[]\n",
        "#   for i in range(N):\n",
        "#     Arr.append(list(map(int, input())))\n",
        "#   reversed_arr = Arr[::-1]\n",
        "#   print(\"Reversed Array:\", end=\" \")\n",
        "#   for i in reversed_arr:\n",
        "#       print(i, end=\" \")\n",
        "# N=int(input())\n",
        "# result=reversearray(N)\n",
        "# print(result)\n",
        "\n",
        "def reversearray(N):\n",
        "    Arr = []\n",
        "    for i in range(N):\n",
        "        Arr.append(list(map(int, input().split())))\n",
        "    reversed_arr = Arr[::-1]\n",
        "\n",
        "    flattened_arr = [element for sublist in reversed_arr for element in sublist]\n",
        "    print(\"Reversed Array:\", flattened_arr)\n",
        "\n",
        "N = int(input(\"Enter the number of lists: \"))\n",
        "reversearray(N)\n",
        "\n"
      ],
      "metadata": {
        "colab": {
          "base_uri": "https://localhost:8080/"
        },
        "id": "fSINQUvmYtz-",
        "outputId": "1cc40cf3-3099-406c-9381-1593b22dc444"
      },
      "execution_count": null,
      "outputs": [
        {
          "output_type": "stream",
          "name": "stdout",
          "text": [
            "4\n",
            "1\n",
            "2\n",
            "3\n",
            "4\n",
            "Reversed Array: [4] [3] [2] [1] None\n"
          ]
        }
      ]
    },
    {
      "cell_type": "code",
      "source": [
        "# Find minimum and maximum element in an array\n",
        "# BasicAccuracy: 68.55%Submissions: 239K+Points: 1\n",
        "# Three 90 Challenge Extended On Popular Demand! Don't Miss Out Now\n",
        "\n",
        "# banner\n",
        "# Given an array A of size N of integers. Your task is to find the minimum and maximum elements in the array.\n",
        "# Input:\n",
        "# N = 6\n",
        "# A[] = {3, 2, 1, 56, 10000, 167}\n",
        "# Output: 1 10000\n",
        "# Explanation: minimum and maximum elements of array are 1 and 10000\n",
        "\n",
        "def minandmax(N):\n",
        "  arr=[]\n",
        "  for i in range(N):\n",
        "    arr.append(int(input()))\n",
        "  sorted_arr=sorted(arr)\n",
        "  return sorted_arr[0], sorted_arr[N-1]\n",
        "\n",
        "N=int(input())\n",
        "result=minandmax(N)\n",
        "print(*result)\n"
      ],
      "metadata": {
        "colab": {
          "base_uri": "https://localhost:8080/"
        },
        "id": "2rYcQXSqn9Op",
        "outputId": "3d7e2ab3-983f-4c0a-8567-628bfdfeb828"
      },
      "execution_count": null,
      "outputs": [
        {
          "output_type": "stream",
          "name": "stdout",
          "text": [
            "3\n",
            "4\n",
            "56\n",
            "12\n",
            "4 56\n"
          ]
        }
      ]
    },
    {
      "cell_type": "code",
      "source": [
        "# Given an array arr[] and an integer K where K is smaller than size of array, the task is to find the Kth smallest element in the given array. It is given that all array elements are distinct.\n",
        "\n",
        "# Note :-  l and r denotes the starting and ending index of the array.\n",
        "\n",
        "# Example 1:\n",
        "\n",
        "# Input:\n",
        "# N = 6\n",
        "# arr[] = 7 10 4 3 20 15\n",
        "# K = 3\n",
        "# L=0 R=5\n",
        "\n",
        "# Output : 7\n",
        "# Explanation :\n",
        "# 3rd smallest element in the given\n",
        "# array is 7.\n",
        "# Example 2:\n",
        "\n",
        "# Input:\n",
        "# N = 5\n",
        "# arr[] = 7 10 4 20 15\n",
        "# K = 4 L=0 R=4\n",
        "# Output : 15\n",
        "# Explanation :\n",
        "# 4th smallest element in the given\n",
        "# array is 15.\n",
        "# Your Task:\n",
        "# You don't have to read input or print anything. Your task is to complete the function kthSmallest() which takes the array arr[],\n",
        "# integers l and r denoting the starting and ending index of the array and an integer K as input and returns the Kth smallest element.\n",
        "\n",
        "\n",
        "# Expected Time Complexity: O(n*log(n) )\n",
        "# Expected Auxiliary Space: O(log(n))\n",
        "# Constraints:\n",
        "# 1 <= N <= 105\n",
        "#  L==0\n",
        "#  R==N-1\n",
        "# 1<= arr[i] <= 105\n",
        "# 1 <= K <= N\n",
        "\n",
        "def kthsmallestelement(N,k):\n",
        "\n",
        "  arr=[]\n",
        "  for i in range(N):\n",
        "    arr.append(int(input()))\n",
        "  sorted_arr=sorted(arr)\n",
        "  return sorted_arr[k-1]\n",
        "\n",
        "N=int(input())\n",
        "k=int(input(\"enter kth element:\"))\n",
        "result=kthsmallestelement(N,k)\n",
        "print(result)"
      ],
      "metadata": {
        "colab": {
          "base_uri": "https://localhost:8080/"
        },
        "id": "Cd75YmOQqsS8",
        "outputId": "b622ded3-9ad0-4344-d1de-ccbcb31df455"
      },
      "execution_count": null,
      "outputs": [
        {
          "output_type": "stream",
          "name": "stdout",
          "text": [
            "5\n",
            "enter kth element:4\n",
            "7\n",
            "10\n",
            "4\n",
            "15\n",
            "20\n",
            "15\n"
          ]
        }
      ]
    },
    {
      "cell_type": "code",
      "source": [
        "# Sort an array of 0s, 1s and 2s\n",
        "# MediumAccuracy: 50.58%Submissions: 620K+Points: 4\n",
        "# Three 90 Challenge Extended On Popular Demand! Don't Miss Out Now\n",
        "\n",
        "# banner\n",
        "# Given an array of size N containing only 0s, 1s, and 2s; sort the array in ascending order.\n",
        "\n",
        "\n",
        "# Example 1:\n",
        "\n",
        "# Input:\n",
        "# N = 5\n",
        "# arr[]= {0 2 1 2 0}\n",
        "# Output:\n",
        "# 0 0 1 2 2\n",
        "# Explanation:\n",
        "# 0s 1s and 2s are segregated\n",
        "# into ascending order.\n",
        "# Example 2:\n",
        "\n",
        "# Input:\n",
        "# N = 3\n",
        "# arr[] = {0 1 0}\n",
        "# Output:\n",
        "# 0 0 1\n",
        "# Explanation:\n",
        "# 0s 1s and 2s are segregated\n",
        "# into ascending order.\n",
        "\n",
        "# Your Task:\n",
        "# You don't need to read input or print anything. Your task is to complete the function sort012() that takes an array arr and N as input parameters and sorts the array in-place.\n",
        "\n",
        "\n",
        "# Expected Time Complexity: O(N)\n",
        "# Expected Auxiliary Space: O(1)\n",
        "\n",
        "\n",
        "# Constraints:\n",
        "# 1 <= N <= 10^6\n",
        "# 0 <= A[i] <= 2\n",
        "\n",
        "def sorted_arr(N):\n",
        "  arr=[]\n",
        "  for i in range(N):\n",
        "    arr.append(int(input()))\n",
        "  sorted_arrs=sorted(arr)\n",
        "  return sorted_arrs\n",
        "N=int(input())\n",
        "result=sorted_arr(N)\n",
        "print(result)\n",
        "\n"
      ],
      "metadata": {
        "colab": {
          "base_uri": "https://localhost:8080/"
        },
        "id": "v8rRheQaGB-z",
        "outputId": "50e2ac88-31f9-4a10-92b3-bd115909740c"
      },
      "execution_count": null,
      "outputs": [
        {
          "output_type": "stream",
          "name": "stdout",
          "text": [
            "5\n",
            "0\n",
            "2\n",
            "1\n",
            "2\n",
            "0\n",
            "[0, 0, 1, 2, 2]\n"
          ]
        }
      ]
    },
    {
      "cell_type": "code",
      "source": [
        "# Move all negative elements to end\n",
        "# EasyAccuracy: 56.24%Submissions: 109K+Points: 2\n",
        "# Three 90 Challenge Extended On Popular Demand! Don't Miss Out Now\n",
        "\n",
        "# banner\n",
        "# Given an unsorted array arr[] of size N having both negative and positive integers. The task is place all negative\n",
        "#  element at the end of array without changing the order of positive element and negative element.\n",
        "\n",
        "\n",
        "\n",
        "# Example 1:\n",
        "\n",
        "# Input :\n",
        "# N = 8\n",
        "# arr[] = {1, -1, 3, 2, -7, -5, 11, 6 }\n",
        "# Output :\n",
        "# 1  3  2  11  6  -1  -7  -5\n",
        "\n",
        "# Example 2:\n",
        "\n",
        "# Input :\n",
        "# N=8\n",
        "# arr[] = {-5, 7, -3, -4, 9, 10, -1, 11}\n",
        "# Output :\n",
        "# 7  9  10  11  -5  -3  -4  -1\n",
        "\n",
        "\n",
        "# Your Task:\n",
        "# You don't need to read input or print anything. Your task is to complete the function segregateElements() which\n",
        "# takes the array arr[] and its size N as inputs and store the answer in the array arr[] itself.\n",
        "\n",
        "\n",
        "\n",
        "# Expected Time Complexity: O(N)\n",
        "# Expected Auxiliary Space: O(N)\n",
        "\n",
        "\n",
        "\n",
        "# Constraints:\n",
        "# 1 ≤ N ≤ 105\n",
        "# -105 ≤ arr[] ≤ 105\n",
        "\n",
        "# def negativeatend(N):\n",
        "#   arr=[]\n",
        "#   length=len(arr)\n",
        "#   neg_arr=[]\n",
        "#   pos_arr=[]\n",
        "#   for i in range(N):\n",
        "#     arr.append(int(input()))\n",
        "#   for i in range(length):\n",
        "#     if arr[i]>=0:\n",
        "#       pos_arr.append(arr[i])\n",
        "#     else:6\n",
        "#       neg_arr.append(arr[i])\n",
        "#   total_arr=pos_arr+neg_arr\n",
        "#   return total_arr\n",
        "# N=int(input())\n",
        "# result=negativeatend(N)\n",
        "# print(result)\n",
        "\n",
        "def negativeatend(N):\n",
        "    arr = []\n",
        "    for i in range(N):\n",
        "        arr.append(int(input()))\n",
        "\n",
        "    neg_arr = []\n",
        "    pos_arr = []\n",
        "\n",
        "    for i in range(N):\n",
        "        if arr[i] >= 0:\n",
        "            pos_arr.append(arr[i])\n",
        "        else:\n",
        "            neg_arr.append(arr[i])\n",
        "\n",
        "    total_arr = pos_arr + neg_arr\n",
        "    return total_arr\n",
        "\n",
        "N = int(input(\"Enter the number of elements: \"))\n",
        "result = negativeatend(N)\n",
        "print(\"Result:\", result)\n",
        "\n"
      ],
      "metadata": {
        "colab": {
          "base_uri": "https://localhost:8080/"
        },
        "id": "y9KEKVUKXjFI",
        "outputId": "5f5b7511-db9b-4ca5-a7e9-a32e11cc46e0"
      },
      "execution_count": null,
      "outputs": [
        {
          "output_type": "stream",
          "name": "stdout",
          "text": [
            "Enter the number of elements: 8\n",
            "1\n",
            "-1\n",
            "3\n",
            "2\n",
            "-7\n",
            "-5\n",
            "11\n",
            "6\n",
            "Result: [1, 3, 2, 11, 6, -1, -7, -5]\n"
          ]
        }
      ]
    },
    {
      "cell_type": "code",
      "source": [
        "# Union of two arrays\n",
        "# BasicAccuracy: 42.22%Submissions: 333K+Points: 1\n",
        "# Three 90 Challenge Extended On Popular Demand! Don't Miss Out Now\n",
        "\n",
        "# banner\n",
        "# Given two arrays a[] and b[] of size n and m respectively. The task is to find the number of elements in the union between these two arrays.\n",
        "\n",
        "# Union of the two arrays can be defined as the set containing distinct elements from both the arrays. If there are repetitions, then only one occurrence of element should be printed in the union.\n",
        "\n",
        "# Note : Elements are not necessarily distinct.\n",
        "\n",
        "# Example 1:\n",
        "\n",
        "# Input:\n",
        "# 5 3\n",
        "# 1 2 3 4 5\n",
        "# 1 2 3\n",
        "# Output:\n",
        "# 5\n",
        "# Explanation:\n",
        "# 1, 2, 3, 4 and 5 are the\n",
        "# elements which comes in the union set\n",
        "# of both arrays. So count is 5.\n",
        "# Example 2:\n",
        "\n",
        "# Input:\n",
        "# 6 2\n",
        "# 85 25 1 32 54 6\n",
        "# 85 2\n",
        "# Output:\n",
        "# 7\n",
        "# Explanation:\n",
        "# 85, 25, 1, 32, 54, 6, and\n",
        "# 2 are the elements which comes in the\n",
        "# union set of both arrays. So count is 7.\n",
        "# Your Task:\n",
        "# Complete doUnion function that takes a, n, b, m as parameters and returns the count of union elements of the two arrays. The printing is done by the driver code.\n",
        "\n",
        "# Constraints:\n",
        "# 1 ≤ n, m ≤ 105\n",
        "# 0 ≤ a[i], b[i] < 105\n",
        "\n",
        "# Expected Time Complexity : O(n+m)\n",
        "# Expected Auxilliary Space : O(n+m)\n",
        "\n",
        "# def unionarray(N, K):\n",
        "#   n_arr=[]\n",
        "#   k_arr=[]\n",
        "#   for i in range(N):\n",
        "#     n_arr.append((int,input().split()))\n",
        "#   for i in range(K):\n",
        "#     k_arr.append((int,input().split()))\n",
        "#   union_arr=n_arr+k_arr\n",
        "#   for i in range(len(union_arr)):\n",
        "#     if union_arr[i]==union_arr[j]:\n",
        "#       union_arr[i], union_arr[j]= union_arr[i]\n",
        "#   return len(union_arr)\n",
        "\n",
        "# N, K = map(int, input().split())\n",
        "# result=unionarray(N, K)\n",
        "# print(result)\n",
        "\n",
        "def unionarray(N, K):\n",
        "    n_arr = [list(map(int, input().split())) ]\n",
        "    k_arr = [list(map(int, input().split())) ]\n",
        "\n",
        "    union_set = set(tuple(element) for element in n_arr + k_arr)\n",
        "    union_arr = [list(element) for element in union_set]\n",
        "    length=len(union_arr)\n",
        "\n",
        "    return length\n",
        "\n",
        "N, K = map(int, input().split())\n",
        "result = unionarray(N, K)\n",
        "print(result)\n",
        "\n",
        "\n",
        "\n"
      ],
      "metadata": {
        "colab": {
          "base_uri": "https://localhost:8080/"
        },
        "id": "mKqQVjTgaz-Y",
        "outputId": "9ca99c12-346d-429b-a430-11ecf9c932c2"
      },
      "execution_count": null,
      "outputs": [
        {
          "output_type": "stream",
          "name": "stdout",
          "text": [
            "6 2\n",
            "85 25 1 32 54 6\n",
            "85 2\n",
            "2\n"
          ]
        }
      ]
    }
  ]
}